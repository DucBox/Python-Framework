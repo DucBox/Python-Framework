{
  "nbformat": 4,
  "nbformat_minor": 0,
  "metadata": {
    "colab": {
      "provenance": [],
      "authorship_tag": "ABX9TyO2cSELHxfhNoq0XE54raVg",
      "include_colab_link": true
    },
    "kernelspec": {
      "name": "python3",
      "display_name": "Python 3"
    },
    "language_info": {
      "name": "python"
    }
  },
  "cells": [
    {
      "cell_type": "markdown",
      "metadata": {
        "id": "view-in-github",
        "colab_type": "text"
      },
      "source": [
        "<a href=\"https://colab.research.google.com/github/DucBox/CyberSecurity/blob/main/Salsa20_%2B_DES.ipynb\" target=\"_parent\"><img src=\"https://colab.research.google.com/assets/colab-badge.svg\" alt=\"Open In Colab\"/></a>"
      ]
    },
    {
      "cell_type": "code",
      "execution_count": null,
      "metadata": {
        "colab": {
          "base_uri": "https://localhost:8080/"
        },
        "id": "wnQ-cZVr-4pb",
        "outputId": "8153785a-c8ad-4f0f-d6eb-2451919b5114"
      },
      "outputs": [
        {
          "output_type": "stream",
          "name": "stdout",
          "text": [
            "Encrypted: 0109fc750bc2b016264d845aedb744\n",
            "Decrypted: Hello, Salsa20!\n"
          ]
        }
      ],
      "source": [
        "def rotl(value, shift, bits=32):\n",
        "    return ((value << shift) | (value >> (bits - shift))) & ((1 << bits) - 1)\n",
        "\n",
        "def quarter_round(a, b, c, d):\n",
        "    a = (a + b) & 0xffffffff; d ^= a; d = rotl(d, 16)\n",
        "    c = (c + d) & 0xffffffff; b ^= c; b = rotl(b, 12)\n",
        "    a = (a + b) & 0xffffffff; d ^= a; d = rotl(d, 8)\n",
        "    c = (c + d) & 0xffffffff; b ^= c; b = rotl(b, 7)\n",
        "    return a, b, c, d\n",
        "\n",
        "def salsa20_hash(state):\n",
        "    x = list(state)\n",
        "    for _ in range(10):  # 20 rounds, performed in pairs\n",
        "        # Column rounds\n",
        "        x[4], x[8], x[12], x[0] = quarter_round(x[4], x[8], x[12], x[0])\n",
        "        x[9], x[13], x[1], x[5] = quarter_round(x[9], x[13], x[1], x[5])\n",
        "        x[14], x[2], x[6], x[10] = quarter_round(x[14], x[2], x[6], x[10])\n",
        "        x[3], x[7], x[11], x[15] = quarter_round(x[3], x[7], x[11], x[15])\n",
        "        # Diagonal rounds\n",
        "        x[1], x[2], x[3], x[0] = quarter_round(x[1], x[2], x[3], x[0])\n",
        "        x[6], x[7], x[4], x[5] = quarter_round(x[6], x[7], x[4], x[5])\n",
        "        x[11], x[8], x[9], x[10] = quarter_round(x[11], x[8], x[9], x[10])\n",
        "        x[12], x[13], x[14], x[15] = quarter_round(x[12], x[13], x[14], x[15])\n",
        "    return [(x[i] + state[i]) & 0xffffffff for i in range(16)]\n",
        "\n",
        "def salsa20_key_schedule(key, nonce, counter):\n",
        "    constants = [0x61707865, 0x3320646e, 0x79622d32, 0x6b206574]\n",
        "    key_schedule = constants[:1] + [int.from_bytes(key[i:i+4], 'little') for i in range(0, 16, 4)] \\\n",
        "                  + constants[1:3] + [counter & 0xffffffff, counter >> 32] \\\n",
        "                  + [int.from_bytes(nonce[i:i+4], 'little') for i in range(0, 8, 4)] + constants[3:]\n",
        "    if len(key) == 32:\n",
        "        key_schedule[1:5] += [int.from_bytes(key[i:i+4], 'little') for i in range(16, 32, 4)]\n",
        "    elif len(key) != 16:\n",
        "        raise ValueError(\"Key must be either 16 or 32 bytes long.\")\n",
        "    return key_schedule\n",
        "def encrypt(plaintext, key, nonce):\n",
        "    assert len(nonce) == 8, \"Nonce must be 8 bytes long\"\n",
        "    encrypted = b''\n",
        "    counter = 0\n",
        "    while plaintext:\n",
        "        block = plaintext[:64]\n",
        "        plaintext = plaintext[64:]\n",
        "        key_schedule = salsa20_key_schedule(key, nonce, counter)\n",
        "        keystream = salsa20_hash(key_schedule)\n",
        "        keystream_bytes = b''.join(word.to_bytes(4, 'little') for word in keystream)\n",
        "        encrypted_block = bytes(a ^ b for a, b in zip(block, keystream_bytes[:len(block)]))\n",
        "        encrypted += encrypted_block\n",
        "        counter += 1\n",
        "    return encrypted\n",
        "\n",
        "def decrypt(ciphertext, key, nonce):\n",
        "    return encrypt(ciphertext, key, nonce)\n",
        "\n",
        "# Example usage\n",
        "key = b\"this_is_a_32_byte_key_for_salsa!\"\n",
        "nonce = b\"nonce123\"\n",
        "plaintext = b\"Hello, Salsa20!\"\n",
        "\n",
        "encrypted = encrypt(plaintext, key, nonce)\n",
        "print(f\"Encrypted: {encrypted.hex()}\")\n",
        "\n",
        "decrypted = decrypt(encrypted, key, nonce)\n",
        "print(f\"Decrypted: {decrypted.decode()}\")\n",
        "\n"
      ]
    },
    {
      "cell_type": "code",
      "source": [
        "def KSA(key):\n",
        "    key_length = len(key)\n",
        "    S = list(range(256))\n",
        "    j = 0\n",
        "    for i in range(256):\n",
        "        j = (j + S[i] + key[i % key_length]) % 256\n",
        "        S[i], S[j] = S[j], S[i]\n",
        "    return S\n",
        "\n",
        "def PRGA(S):\n",
        "    i = 0\n",
        "    j = 0\n",
        "    while True:\n",
        "        i = (i + 1) % 256\n",
        "        j = (j + S[i]) % 256\n",
        "        S[i], S[j] = S[j], S[i]\n",
        "        K = S[(S[i] + S[j]) % 256]\n",
        "        yield K\n",
        "\n",
        "def RC4(key):\n",
        "    S = KSA(key)\n",
        "    return PRGA(S)\n"
      ],
      "metadata": {
        "id": "HfJjGZqFBKtz"
      },
      "execution_count": null,
      "outputs": []
    },
    {
      "cell_type": "code",
      "source": [
        "def benchmark_stream_generation(cipher_func, key, nonce=None, data_size=1024*1024):\n",
        "    start_time = time.time()\n",
        "    # Generate a block of data\n",
        "    data = b'\\x00' * data_size\n",
        "    if nonce:  # For Salsa20\n",
        "        _ = cipher_func(data, key, nonce)\n",
        "    else:  # For RC4, assuming cipher_func is adjusted to return bytes\n",
        "        _ = cipher_func(data, key)\n",
        "    end_time = time.time()\n",
        "    return end_time - start_time\n",
        "\n",
        "# Adjust RC4 to return bytes instead of a generator\n",
        "def RC4_to_bytes(key, data):\n",
        "    keystream = RC4(key)\n",
        "    return bytes([next(keystream) for _ in range(len(data))])\n",
        "\n",
        "# Benchmark Salsa20 and RC4\n",
        "salsa20_time = benchmark_stream_generation(encrypt, key, nonce)\n",
        "rc4_time = benchmark_stream_generation(RC4_to_bytes, key)\n",
        "\n",
        "print(f\"Salsa20 Generation Time: {salsa20_time} seconds\")\n",
        "print(f\"RC4 Generation Time: {rc4_time} seconds\")\n"
      ],
      "metadata": {
        "colab": {
          "base_uri": "https://localhost:8080/"
        },
        "id": "o3vzGU0YBLY7",
        "outputId": "47d081d0-25f2-4fa6-db38-75c276b471b9"
      },
      "execution_count": null,
      "outputs": [
        {
          "output_type": "stream",
          "name": "stdout",
          "text": [
            "Salsa20 Generation Time: 5.387058973312378 seconds\n",
            "RC4 Generation Time: 0.0003523826599121094 seconds\n"
          ]
        }
      ]
    },
    {
      "cell_type": "code",
      "source": [
        "def key_sensitivity_test(encrypt_function, key, nonce=None):\n",
        "    data = b'\\x00' * 512  # Dùng một khối dữ liệu nhỏ để mã hóa\n",
        "    flipped_key = bytearray(key)\n",
        "    flipped_key[0] ^= 1  # Flip the first bit of the key\n",
        "\n",
        "    encrypted1 = encrypt_function(data, key, nonce) if nonce else RC4_to_bytes(key, data)\n",
        "    encrypted2 = encrypt_function(data, bytes(flipped_key), nonce) if nonce else RC4_to_bytes(bytes(flipped_key), data)\n",
        "\n",
        "    # Calculate the number of differing bytes\n",
        "    differences = sum(1 for x, y in zip(encrypted1, encrypted2) if x != y)\n",
        "    return differences\n",
        "\n",
        "# So sánh độ nhạy khóa\n",
        "difference_salsa20 = key_sensitivity_test(encrypt, key, nonce)\n",
        "difference_rc4 = key_sensitivity_test(RC4_to_bytes, key)\n",
        "\n",
        "print(f\"Salsa20 Key Sensitivity: {difference_salsa20} bytes differ\")\n",
        "print(f\"RC4 Key Sensitivity: {difference_rc4} bytes differ\")\n"
      ],
      "metadata": {
        "colab": {
          "base_uri": "https://localhost:8080/"
        },
        "id": "Gr3XYV-yCCZa",
        "outputId": "22eb2d18-d73d-4dd2-8832-c62b621384b2"
      },
      "execution_count": null,
      "outputs": [
        {
          "output_type": "stream",
          "name": "stdout",
          "text": [
            "Salsa20 Key Sensitivity: 511 bytes differ\n",
            "RC4 Key Sensitivity: 510 bytes differ\n"
          ]
        }
      ]
    },
    {
      "cell_type": "code",
      "source": [
        "!pip install pycryptodome"
      ],
      "metadata": {
        "colab": {
          "base_uri": "https://localhost:8080/"
        },
        "id": "0EQkG5zCzvE-",
        "outputId": "06b73bd0-b04a-43ac-e6bc-30bf9aa93470"
      },
      "execution_count": null,
      "outputs": [
        {
          "output_type": "stream",
          "name": "stdout",
          "text": [
            "Collecting pycryptodome\n",
            "  Downloading pycryptodome-3.20.0-cp35-abi3-manylinux_2_17_x86_64.manylinux2014_x86_64.whl (2.1 MB)\n",
            "\u001b[2K     \u001b[90m━━━━━━━━━━━━━━━━━━━━━━━━━━━━━━━━━━━━━━━━\u001b[0m \u001b[32m2.1/2.1 MB\u001b[0m \u001b[31m12.3 MB/s\u001b[0m eta \u001b[36m0:00:00\u001b[0m\n",
            "\u001b[?25hInstalling collected packages: pycryptodome\n",
            "Successfully installed pycryptodome-3.20.0\n"
          ]
        }
      ]
    },
    {
      "cell_type": "code",
      "source": [
        "from Crypto.Cipher import DES, ARC4\n",
        "from Crypto.Random import get_random_bytes\n",
        "import time\n",
        "\n",
        "# Padding để đảm bảo dữ liệu có độ dài là bội số của DES block size\n",
        "def pad(text):\n",
        "    while len(text) % 8 != 0:\n",
        "        text += b' '\n",
        "    return text\n",
        "\n",
        "# Hàm mã hóa DES\n",
        "def encrypt_des(plaintext, key):\n",
        "    des = DES.new(key, DES.MODE_ECB)\n",
        "    padded_text = pad(plaintext)\n",
        "    encrypted_text = des.encrypt(padded_text)\n",
        "    return encrypted_text\n",
        "\n",
        "# Hàm giải mã DES\n",
        "def decrypt_des(ciphertext, key):\n",
        "    des = DES.new(key, DES.MODE_ECB)\n",
        "    decrypted_text = des.decrypt(ciphertext)\n",
        "    return decrypted_text.strip()\n",
        "\n",
        "# Hàm mã hóa RC4\n",
        "def encrypt_rc4(plaintext, key):\n",
        "    rc4 = ARC4.new(key)\n",
        "    encrypted_text = rc4.encrypt(plaintext)\n",
        "    return encrypted_text\n",
        "\n",
        "# Hàm giải mã RC4\n",
        "def decrypt_rc4(ciphertext, key):\n",
        "    rc4 = ARC4.new(key)\n",
        "    decrypted_text = rc4.decrypt(ciphertext)\n",
        "    return decrypted_text\n",
        "\n",
        "# Đo lường thời gian\n",
        "def measure_time(func, *args):\n",
        "    start_time = time.time()\n",
        "    func(*args)\n",
        "    end_time = time.time()\n",
        "    return end_time - start_time\n",
        "\n",
        "# Tạo key ngẫu nhiên cho DES và RC4\n",
        "# key_des = get_random_bytes(8)\n",
        "key_rc4 = get_random_bytes (16)\n",
        "\n",
        "key_des = b\"mysecret\"\n",
        "\n",
        "# Plaintext mẫu\n",
        "plaintext = b\"Hello, DES!\"\n",
        "\n",
        "# Mã hóa DES\n",
        "encrypted_des = encrypt_des(plaintext, key_des)\n",
        "print(\"Encrypted Text (DES):\", encrypted_des)\n",
        "print(\"Encrypted Text (DES-hex):\", encrypted_des.hex())\n",
        "\n",
        "# Giải mã DES\n",
        "decrypted_des = decrypt_des(encrypted_des, key_des)\n",
        "print(\"Decrypted Text (DES):\", decrypted_des.decode())\n"
      ],
      "metadata": {
        "id": "zRP2MCITzmxX",
        "colab": {
          "base_uri": "https://localhost:8080/"
        },
        "outputId": "7e454f84-35fc-4c51-b572-11362b5d9a11"
      },
      "execution_count": null,
      "outputs": [
        {
          "output_type": "stream",
          "name": "stdout",
          "text": [
            "Encrypted Text (DES): b'\\x90\\xe3\\x9d\\x8de\\xf1\\xaa\\xe6\\xd5lo\\xbb\\xf7\\xc68\\xcf'\n",
            "Encrypted Text (DES-hex): 90e39d8d65f1aae6d56c6fbbf7c638cf\n",
            "Decrypted Text (DES): Hello, DES!\n"
          ]
        }
      ]
    },
    {
      "cell_type": "code",
      "source": [
        "\n",
        "# Tạo các case đa dạng để test\n",
        "cases = [\n",
        "    b\"Short text.\",\n",
        "    b\"https://colab.research.google.com/drive/148CgeQQzID6h9XUVg9Igz2wtqXeK6Hin#scrollTo=uGKTjVMb1EB4\",\n",
        "    b\"https://colab.research.google.com/drive/148CgeQQzID6h9XUVg9Igz2wtqXeK6Hin#scrollTo=uGKTjVMb1EB4 https://colab.research.google.com/drive/148CgeQQzID6h9XUVg9Igz2wtqXeK6Hin#scrollTo=uGKTjVMb1EB4 It contains more characters and therefore, it is expected to take a longer time to encrypt and decrypt compared to shorter texts.\",\n",
        "    b\"The quick brown fox jumps over the lazy dog The quick brown fox jumps over the lazy dog The quick brown fox jumps over the lazy dog The quick brown fox jumps over the lazy dog The quick brown fox jumps over the lazy dog The quick brown fox jumps over the lazy dog The quick brown fox jumps over the lazy dog The quick brown fox jumps over the lazy dog The quick brown fox jumps over the lazy dog The quick brown fox jumps over the lazy dog The quick brown fox jumps over the lazy dog The quick brown fox jumps over the lazy dog The quick brown fox jumps over the lazy dog\"\n",
        "]\n",
        "\n",
        "# Đo lường thời gian mã hóa cho mỗi case\n",
        "for i, data in enumerate(cases, 1):\n",
        "    time_des = measure_time(encrypt_des, data, key_des)\n",
        "    time_rc4 = measure_time(encrypt_rc4, data, key_rc4)\n",
        "    print(f'Case {i}:')\n",
        "    print(f'Time taken for DES encryption: {time_des:.6f} seconds')\n",
        "    print(f'Time taken for RC4 encryption: {time_rc4:.6f} seconds\\n')\n"
      ],
      "metadata": {
        "colab": {
          "base_uri": "https://localhost:8080/"
        },
        "id": "uGKTjVMb1EB4",
        "outputId": "bb886482-cbbd-4b38-9503-57f1b6a202ed"
      },
      "execution_count": null,
      "outputs": [
        {
          "output_type": "stream",
          "name": "stdout",
          "text": [
            "Case 1:\n",
            "Time taken for DES encryption: 0.001227 seconds\n",
            "Time taken for RC4 encryption: 0.000046 seconds\n",
            "\n",
            "Case 2:\n",
            "Time taken for DES encryption: 0.000088 seconds\n",
            "Time taken for RC4 encryption: 0.000043 seconds\n",
            "\n",
            "Case 3:\n",
            "Time taken for DES encryption: 0.000096 seconds\n",
            "Time taken for RC4 encryption: 0.000045 seconds\n",
            "\n",
            "Case 4:\n",
            "Time taken for DES encryption: 0.000054 seconds\n",
            "Time taken for RC4 encryption: 0.000035 seconds\n",
            "\n"
          ]
        }
      ]
    },
    {
      "cell_type": "code",
      "source": [
        "# Tạo các loại dữ liệu khác nhau để làm case test\n",
        "binary_data = get_random_bytes(256)  # Dữ liệu nhị phân ngẫu nhiên\n",
        "numeric_data = bytes([i for i in range(256)])  # Dãy số từ 0 đến 255\n",
        "repeated_data = b\"A\" * 256  # Dữ liệu là ký tự lặp đi lặp lại\n",
        "mixed_data = b\"\".join([bytes([i, 65]) for i in range(128)])  # Kết hợp giữa số và chữ\n",
        "\n",
        "# Thêm các case dữ liệu mới vào danh sách\n",
        "new_cases = [\n",
        "    (\"Binary Data\", binary_data),\n",
        "    (\"Numeric Data\", numeric_data),\n",
        "    (\"Repeated Character\", repeated_data),\n",
        "    (\"Mixed Data\", mixed_data),\n",
        "]\n",
        "\n",
        "# Đo lường thời gian mã hóa cho mỗi loại dữ liệu mới\n",
        "for name, data in new_cases:\n",
        "    time_des = measure_time(encrypt_des, data, key_des)\n",
        "    time_rc4 = measure_time(encrypt_rc4, data, key_rc4)\n",
        "    print(f'{name}:')\n",
        "    print(f'Time taken for DES encryption: {time_des:.6f} seconds')\n",
        "    print(f'Time taken for RC4 encryption: {time_rc4:.6f} seconds\\n')\n"
      ],
      "metadata": {
        "colab": {
          "base_uri": "https://localhost:8080/"
        },
        "id": "9K49K5m_1Bt2",
        "outputId": "44dfdee4-67e4-4c22-c395-db97a93be91b"
      },
      "execution_count": null,
      "outputs": [
        {
          "output_type": "stream",
          "name": "stdout",
          "text": [
            "Binary Data:\n",
            "Time taken for DES encryption: 0.000157 seconds\n",
            "Time taken for RC4 encryption: 0.000043 seconds\n",
            "\n",
            "Numeric Data:\n",
            "Time taken for DES encryption: 0.000127 seconds\n",
            "Time taken for RC4 encryption: 0.000034 seconds\n",
            "\n",
            "Repeated Character:\n",
            "Time taken for DES encryption: 0.000120 seconds\n",
            "Time taken for RC4 encryption: 0.000036 seconds\n",
            "\n",
            "Mixed Data:\n",
            "Time taken for DES encryption: 0.000134 seconds\n",
            "Time taken for RC4 encryption: 0.000036 seconds\n",
            "\n"
          ]
        }
      ]
    },
    {
      "cell_type": "code",
      "source": [
        "text_content = \"\"\"dfiushfodsfhd9foadjfodsfaff\"\"\"\n",
        "file_path = 'small_text.txt'\n",
        "\n",
        "with open(file_path, 'w') as f:\n",
        "    f.write(text_content)"
      ],
      "metadata": {
        "id": "eaaL1V3ADdnb"
      },
      "execution_count": null,
      "outputs": []
    },
    {
      "cell_type": "code",
      "source": [
        "import os\n",
        "\n",
        "file_path = 'random_file.bin'\n",
        "file_size = 1024 * 1024  # 1MB\n",
        "\n",
        "with open(file_path, 'wb') as f:\n",
        "    f.write(os.urandom(file_size))"
      ],
      "metadata": {
        "id": "00xiHB5oDh2z"
      },
      "execution_count": null,
      "outputs": []
    },
    {
      "cell_type": "code",
      "source": [],
      "metadata": {
        "id": "6gIB9tgWNSHg"
      },
      "execution_count": null,
      "outputs": []
    }
  ]
}